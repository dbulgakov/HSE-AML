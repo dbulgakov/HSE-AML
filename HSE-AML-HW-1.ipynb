{
 "cells": [
  {
   "cell_type": "code",
   "execution_count": 16,
   "metadata": {},
   "outputs": [],
   "source": [
    "%matplotlib inline\n",
    "import matplotlib.pyplot as plt\n",
    "import numpy as np\n",
    "import scipy.optimize as opt\n",
    "import sklearn.linear_model\n",
    "from sklearn.model_selection import KFold\n",
    "from sklearn.feature_extraction.text import HashingVectorizer\n",
    "from sklearn.linear_model import LogisticRegression\n",
    "from sklearn.linear_model import SGDClassifier\n",
    "import pandas as pd\n",
    "from sklearn.metrics import f1_score\n",
    "from sklearn.metrics import accuracy_score\n",
    "RND_STATE = 749"
   ]
  },
  {
   "cell_type": "markdown",
   "metadata": {},
   "source": [
    "Load the dataset"
   ]
  },
  {
   "cell_type": "code",
   "execution_count": 2,
   "metadata": {},
   "outputs": [],
   "source": [
    "from sklearn.datasets import fetch_20newsgroups\n",
    "data = fetch_20newsgroups()"
   ]
  },
  {
   "cell_type": "markdown",
   "metadata": {},
   "source": [
    "Use `HashingVectorizer` to encode the text into sparse features:"
   ]
  },
  {
   "cell_type": "code",
   "execution_count": 3,
   "metadata": {},
   "outputs": [],
   "source": [
    "X = HashingVectorizer(stop_words = 'english', n_features=2**10, binary=True, token_pattern=r'\\b[a-z0-9_\\-\\.]+[a-z][a-z0-9_\\-\\.]+\\b').fit_transform(data.data)"
   ]
  },
  {
   "cell_type": "code",
   "execution_count": 4,
   "metadata": {},
   "outputs": [
    {
     "data": {
      "text/plain": [
       "(11314, 1024)"
      ]
     },
     "execution_count": 4,
     "metadata": {},
     "output_type": "execute_result"
    }
   ],
   "source": [
    "X.shape"
   ]
  },
  {
   "cell_type": "code",
   "execution_count": 5,
   "metadata": {},
   "outputs": [],
   "source": [
    "X = X.todense()"
   ]
  },
  {
   "cell_type": "code",
   "execution_count": 6,
   "metadata": {},
   "outputs": [],
   "source": [
    "y = data.target"
   ]
  },
  {
   "cell_type": "code",
   "execution_count": 7,
   "metadata": {},
   "outputs": [
    {
     "data": {
      "text/plain": [
       "(11314,)"
      ]
     },
     "execution_count": 7,
     "metadata": {},
     "output_type": "execute_result"
    }
   ],
   "source": [
    "y.shape"
   ]
  },
  {
   "cell_type": "markdown",
   "metadata": {},
   "source": [
    "Use the K-Fold cross-validation to split the dataset into training and test parts:"
   ]
  },
  {
   "cell_type": "code",
   "execution_count": 8,
   "metadata": {},
   "outputs": [],
   "source": [
    "def splitter(rnd_st):\n",
    "    return KFold(5, shuffle=True, random_state=rnd_st)"
   ]
  },
  {
   "cell_type": "code",
   "execution_count": 9,
   "metadata": {},
   "outputs": [],
   "source": [
    "def test_model(clf, rnd_st):\n",
    "    for train_index, test_index in splitter(rnd_st).split(X):\n",
    "        X_train, X_test = X[train_index], X[test_index]\n",
    "        y_train, y_test = y[train_index], y[test_index]\n",
    "        clf.fit(X_train, y_train)\n",
    "        y_pred = clf.predict(X_test)\n",
    "        print('Weighted f1-score: ', f1_score(y_test, y_pred, average='weighted'))\n",
    "        print('Accuracy score: ', accuracy_score(y_test, y_pred))"
   ]
  },
  {
   "cell_type": "markdown",
   "metadata": {},
   "source": [
    "Experiment with different models (L1, L2, ...)"
   ]
  },
  {
   "cell_type": "markdown",
   "metadata": {},
   "source": [
    "Logistic regression L1"
   ]
  },
  {
   "cell_type": "code",
   "execution_count": 10,
   "metadata": {},
   "outputs": [],
   "source": [
    "model = LogisticRegression(penalty='l1');"
   ]
  },
  {
   "cell_type": "code",
   "execution_count": 11,
   "metadata": {},
   "outputs": [
    {
     "name": "stdout",
     "output_type": "stream",
     "text": [
      "Weighted f1-score:  0.6451624410096805\n",
      "Accuracy score:  0.6491383119752541\n",
      "Weighted f1-score:  0.6442768494590695\n",
      "Accuracy score:  0.6456031816173221\n",
      "Weighted f1-score:  0.6414060158737694\n",
      "Accuracy score:  0.6442775077330977\n",
      "Weighted f1-score:  0.6397479468825665\n",
      "Accuracy score:  0.6438356164383562\n",
      "Weighted f1-score:  0.6913445590539319\n",
      "Accuracy score:  0.6927497789566756\n"
     ]
    }
   ],
   "source": [
    "test_model(model, RND_STATE)"
   ]
  },
  {
   "cell_type": "markdown",
   "metadata": {},
   "source": [
    "Logistic regression L2"
   ]
  },
  {
   "cell_type": "code",
   "execution_count": 12,
   "metadata": {},
   "outputs": [],
   "source": [
    "model = LogisticRegression(penalty='l2');"
   ]
  },
  {
   "cell_type": "code",
   "execution_count": 13,
   "metadata": {},
   "outputs": [
    {
     "name": "stdout",
     "output_type": "stream",
     "text": [
      "Weighted f1-score:  0.7308255359817943\n",
      "Accuracy score:  0.7335395492708794\n",
      "Weighted f1-score:  0.7233230546823648\n",
      "Accuracy score:  0.726911179849757\n",
      "Weighted f1-score:  0.7103790118099625\n",
      "Accuracy score:  0.7127706584180291\n",
      "Weighted f1-score:  0.7180818200197306\n",
      "Accuracy score:  0.7211665930181176\n",
      "Weighted f1-score:  0.7500386302308621\n",
      "Accuracy score:  0.7519893899204244\n"
     ]
    }
   ],
   "source": [
    "test_model(model, RND_STATE)"
   ]
  },
  {
   "cell_type": "markdown",
   "metadata": {},
   "source": [
    "SGDClassifier"
   ]
  },
  {
   "cell_type": "code",
   "execution_count": 19,
   "metadata": {},
   "outputs": [],
   "source": [
    "model = SGDClassifier(max_iter=5, tol=None)"
   ]
  },
  {
   "cell_type": "code",
   "execution_count": 20,
   "metadata": {},
   "outputs": [
    {
     "name": "stdout",
     "output_type": "stream",
     "text": [
      "Weighted f1-score:  0.7087200254087408\n",
      "Accuracy score:  0.7118868758285462\n",
      "Weighted f1-score:  0.7083936707964598\n",
      "Accuracy score:  0.7101193106495802\n",
      "Weighted f1-score:  0.7032068039116197\n",
      "Accuracy score:  0.7048166151126822\n",
      "Weighted f1-score:  0.6883558005693009\n",
      "Accuracy score:  0.6933274414494034\n",
      "Weighted f1-score:  0.7146397117500843\n",
      "Accuracy score:  0.7117595048629531\n"
     ]
    }
   ],
   "source": [
    "test_model(model, RND_STATE)"
   ]
  },
  {
   "cell_type": "markdown",
   "metadata": {
    "slideshow": {
     "slide_type": "fragment"
    }
   },
   "source": [
    "What model worked best?"
   ]
  }
 ],
 "metadata": {
  "kernelspec": {
   "display_name": "Python 3",
   "language": "python",
   "name": "python3"
  },
  "language_info": {
   "codemirror_mode": {
    "name": "ipython",
    "version": 3
   },
   "file_extension": ".py",
   "mimetype": "text/x-python",
   "name": "python",
   "nbconvert_exporter": "python",
   "pygments_lexer": "ipython3",
   "version": "3.6.8"
  }
 },
 "nbformat": 4,
 "nbformat_minor": 2
}
